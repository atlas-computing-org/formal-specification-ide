{
 "cells": [
  {
   "cell_type": "markdown",
   "metadata": {},
   "source": [
    "# X3DH Block Mappings"
   ]
  },
  {
   "cell_type": "markdown",
   "metadata": {},
   "source": [
    "Generate course mappings between LHS and RHS texts of the X3DH protocol, using embeddings and vector databases."
   ]
  },
  {
   "cell_type": "code",
   "execution_count": 1,
   "metadata": {},
   "outputs": [
    {
     "name": "stdout",
     "output_type": "stream",
     "text": [
      "Number of lhs blocks: 68\n",
      "Summarizing RHS blocks...\n",
      "Storing LHS blocks in vector database...\n",
      "Finding mapping for selected text in vector database...\n",
      "{\n",
      "  \"mappings\": [\n",
      "    {\n",
      "      \"description\": \"Function checks if specific bit in byte is set.\",\n",
      "      \"lhsRanges\": [\n",
      "        {\n",
      "          \"start\": 230,\n",
      "          \"end\": 293\n",
      "        }\n",
      "      ],\n",
      "      \"rhsRanges\": [\n",
      "        {\n",
      "          \"start\": 6376,\n",
      "          \"end\": 6555\n",
      "        },\n",
      "        {\n",
      "          \"start\": 6198,\n",
      "          \"end\": 6374\n",
      "        }\n",
      "      ]\n",
      "    }\n",
      "  ],\n",
      "  \"lhsLabels\": [],\n",
      "  \"rhsLabels\": []\n",
      "}\n"
     ]
    }
   ],
   "source": [
    "import { readFileSync } from 'node:fs';\n",
    "import { getNotebookLogger } from \"../server/src/Logger.ts\";\n",
    "import { SERVER_DATA_DIR } from \"../server/src/util/fileUtils.ts\";\n",
    "import { blockMappingsGraphInvoke } from \"../server/src/agents/graphs/blockMappingsGraph.ts\";\n",
    "\n",
    "const logger = getNotebookLogger();\n",
    "const userUUID: string = \"0\";\n",
    "const lhsText = readFileSync(`${SERVER_DATA_DIR}/AES/selected-text.txt`, 'utf-8');\n",
    "const rhsText = readFileSync(`${SERVER_DATA_DIR}/AES/pre-written.txt`, 'utf-8');\n",
    "\n",
    "const selectionSide = \"rhs\";\n",
    "const selection = [{ start: 230, end: 293 }];\n",
    "const output = await blockMappingsGraphInvoke(lhsText, rhsText, selection, selectionSide, logger, userUUID);\n",
    "console.log(JSON.stringify(output, null, 2));\n",
    "\n"
   ]
  },
  {
   "cell_type": "code",
   "execution_count": null,
   "metadata": {},
   "outputs": [],
   "source": []
  }
 ],
 "metadata": {
  "kernelspec": {
   "display_name": "Deno",
   "language": "typescript",
   "name": "deno"
  },
  "language_info": {
   "codemirror_mode": "typescript",
   "file_extension": ".ts",
   "mimetype": "text/x.typescript",
   "name": "typescript",
   "nbconvert_exporter": "script",
   "pygments_lexer": "typescript",
   "version": "5.7.3"
  }
 },
 "nbformat": 4,
 "nbformat_minor": 2
}
