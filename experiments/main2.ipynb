{
 "cells": [
  {
   "cell_type": "markdown",
   "metadata": {},
   "source": [
    "# X3DH Block Mappings"
   ]
  },
  {
   "cell_type": "markdown",
   "metadata": {},
   "source": [
    "Generate course mappings between LHS and RHS texts of the X3DH protocol, using embeddings and vector databases."
   ]
  },
  {
   "cell_type": "code",
   "execution_count": 1,
   "metadata": {},
   "outputs": [],
   "source": [
    "import { readFileSync } from 'node:fs';\n",
    "import { getNotebookLogger } from \"../server/src/Logger.ts\";\n",
    "import { SERVER_DATA_DIR } from \"../server/src/util/fileUtils.ts\";\n",
    "import { blockMappingsGraphInvoke } from \"../server/src/agents/graphs/blockMappingsGraph.ts\";\n",
    "import { splitTextBySeparatorRegex } from \"../server/src/util/textUtils.ts\";\n",
    "\n",
    "const logger = getNotebookLogger();\n",
    "const userUUID: string = \"0\";\n",
    "const lhsText = readFileSync(`${SERVER_DATA_DIR}/X3DH-Lean/selected-text.txt`, 'utf-8');\n",
    "const rhsText = readFileSync(`${SERVER_DATA_DIR}/X3DH-Lean/pre-written.txt`, 'utf-8');"
   ]
  },
  {
   "cell_type": "code",
   "execution_count": null,
   "metadata": {},
   "outputs": [],
   "source": [
    "// Annotations from code\n",
    "const selectionSide = \"rhs\";\n",
    "const output = await blockMappingsGraphInvoke(lhsText, rhsText, [], selectionSide, logger);\n",
    "console.log(JSON.stringify(output, null, 2));"
   ]
  },
  {
   "cell_type": "code",
   "execution_count": null,
   "metadata": {},
   "outputs": [],
   "source": [
    "// Annotations from text\n",
    "const selectionSide = \"lhs\";\n",
    "const output = await blockMappingsGraphInvoke(lhsText, rhsText, [], selectionSide, logger);\n",
    "console.log(JSON.stringify(output, null, 2));"
   ]
  },
  {
   "cell_type": "code",
   "execution_count": null,
   "metadata": {},
   "outputs": [],
   "source": [
    "import { blockCategoriesGraphInvoke } from  \"../server/src/agents/graphs/blockCategoriesGraph.ts\";\n",
    "// Block categories\n",
    "const selectionSide = \"lhs\";\n",
    "const output = await blockCategoriesGraphInvoke(lhsText, rhsText, selectionSide, logger);\n",
    "console.log(JSON.stringify(output, null, 2));\n",
    "\n"
   ]
  }
 ],
 "metadata": {
  "kernelspec": {
   "display_name": "Deno",
   "language": "typescript",
   "name": "deno"
  },
  "language_info": {
   "codemirror_mode": "typescript",
   "file_extension": ".ts",
   "mimetype": "text/x.typescript",
   "name": "typescript",
   "nbconvert_exporter": "script",
   "pygments_lexer": "typescript",
   "version": "5.8.3"
  }
 },
 "nbformat": 4,
 "nbformat_minor": 2
}
