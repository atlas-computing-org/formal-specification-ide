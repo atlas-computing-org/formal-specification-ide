{
 "cells": [
  {
   "cell_type": "markdown",
   "metadata": {},
   "source": [
    "# X3DH Block Mappings"
   ]
  },
  {
   "cell_type": "markdown",
   "metadata": {},
   "source": [
    "Generate course mappings between LHS and RHS texts of the X3DH protocol, using embeddings and vector databases."
   ]
  },
  {
   "cell_type": "code",
   "execution_count": 2,
   "metadata": {},
   "outputs": [],
   "source": [
    "import { readFileSync } from 'node:fs';\n",
    "import { getNotebookLogger } from \"../server/src/Logger.ts\";\n",
    "import { SERVER_DATA_DIR } from \"../server/src/util/fileUtils.ts\";\n",
    "import { blockMappingsGraphInvoke } from \"../server/src/agents/graphs/blockMappingsGraph.ts\";\n",
    "import { splitTextBySeparatorRegex } from \"../server/src/util/textUtils.ts\";\n",
    "\n",
    "const logger = getNotebookLogger();\n",
    "const userUUID: string = \"0\";\n",
    "const lhsText = readFileSync(`${SERVER_DATA_DIR}/X3DH-Lean/selected-text.txt`, 'utf-8');\n",
    "const rhsText = readFileSync(`${SERVER_DATA_DIR}/X3DH-Lean/pre-written.txt`, 'utf-8');"
   ]
  },
  {
   "cell_type": "code",
   "execution_count": 3,
   "metadata": {},
   "outputs": [
    {
     "name": "stdout",
     "output_type": "stream",
     "text": [
      "Number of lhs blocks: 94\n",
      "Summarizing RHS blocks...\n",
      "Storing LHS blocks in vector database...\n",
      "Finding mapping for selected text in vector database...\n",
      "{\n",
      "  \"mappings\": [],\n",
      "  \"lhsLabels\": [],\n",
      "  \"rhsLabels\": []\n",
      "}\n"
     ]
    }
   ],
   "source": [
    "// Annotations from code\n",
    "const selectionSide = \"rhs\";\n",
    "const output = await blockMappingsGraphInvoke(lhsText, rhsText, [], selectionSide, logger);\n",
    "console.log(JSON.stringify(output, null, 2));"
   ]
  },
  {
   "cell_type": "code",
   "execution_count": 4,
   "metadata": {},
   "outputs": [
    {
     "name": "stdout",
     "output_type": "stream",
     "text": [
      "Number of rhs blocks: 45\n",
      "Summarizing LHS blocks...\n",
      "Storing RHS blocks in vector database...\n",
      "Finding mapping for selected text in vector database...\n",
      "{\n",
      "  \"mappings\": [],\n",
      "  \"lhsLabels\": [],\n",
      "  \"rhsLabels\": []\n",
      "}\n"
     ]
    }
   ],
   "source": [
    "// Annotations from text\n",
    "const selectionSide = \"lhs\";\n",
    "const output = await blockMappingsGraphInvoke(lhsText, rhsText, [], selectionSide, logger);\n",
    "console.log(JSON.stringify(output, null, 2));"
   ]
  },
  {
   "cell_type": "code",
   "execution_count": 5,
   "metadata": {},
   "outputs": [
    {
     "name": "stdout",
     "output_type": "stream",
     "text": [
      "Number of lhs blocks: 94\n",
      "Summarizing LHS blocks...\n"
     ]
    },
    {
     "ename": "TypeError",
     "evalue": "Cannot read properties of undefined (reading 'forEach')",
     "output_type": "error",
     "traceback": [
      "Stack trace:",
      "TypeError: Cannot read properties of undefined (reading 'forEach')",
      "    at labelBlocks (file:///Users/ar/r/atlas/formal-specification-ide/server/src/agents/nodes/blockCategoriesNode.ts:24:10)",
      "    at RunnableCallable.blockCategoriesNode [as func] (file:///Users/ar/r/atlas/formal-specification-ide/server/src/agents/nodes/blockCategoriesNode.ts:89:26)",
      "    at file:///Users/ar/r/atlas/formal-specification-ide/node_modules/.deno/@langchain+langgraph@0.2.62/node_modules/@langchain/langgraph/dist/utils.js:79:113",
      "    at AsyncLocalStorage.run (node:async_hooks:69:14)",
      "    at AsyncLocalStorageProvider.runWithConfig (file:///Users/ar/r/atlas/formal-specification-ide/node_modules/.deno/@langchain+core@0.3.43_1/node_modules/@langchain/core/dist/singletons/async_local_storage/index.js:56:24)",
      "    at RunnableCallable.invoke (file:///Users/ar/r/atlas/formal-specification-ide/node_modules/.deno/@langchain+langgraph@0.2.62/node_modules/@langchain/langgraph/dist/utils.js:79:68)",
      "    at RunnableSequence.invoke (file:///Users/ar/r/atlas/formal-specification-ide/node_modules/.deno/@langchain+core@0.3.43_1/node_modules/@langchain/core/dist/runnables/base.js:1271:38)",
      "    at eventLoopTick (ext:core/01_core.js:178:7)",
      "    at async _runWithRetry (file:///Users/ar/r/atlas/formal-specification-ide/node_modules/.deno/@langchain+langgraph@0.2.62/node_modules/@langchain/langgraph/dist/pregel/retry.js:72:22)",
      "    at async PregelRunner._executeTasksWithRetry (file:///Users/ar/r/atlas/formal-specification-ide/node_modules/.deno/@langchain+langgraph@0.2.62/node_modules/@langchain/langgraph/dist/pregel/runner.js:299:33)"
     ]
    }
   ],
   "source": [
    "import { blockCategoriesGraphInvoke } from  \"../server/src/agents/graphs/blockCategoriesGraph.ts\";\n",
    "// Block categories\n",
    "const selectionSide = \"lhs\";\n",
    "const output = await blockCategoriesGraphInvoke(lhsText, rhsText, selectionSide, logger);\n",
    "console.log(JSON.stringify(output, null, 2));\n",
    "\n"
   ]
  },
  {
   "cell_type": "code",
   "execution_count": null,
   "metadata": {},
   "outputs": [],
   "source": []
  }
 ],
 "metadata": {
  "kernelspec": {
   "display_name": "Deno",
   "language": "typescript",
   "name": "deno"
  },
  "language_info": {
   "codemirror_mode": "typescript",
   "file_extension": ".ts",
   "mimetype": "text/x.typescript",
   "name": "typescript",
   "nbconvert_exporter": "script",
   "pygments_lexer": "typescript",
   "version": "5.8.3"
  }
 },
 "nbformat": 4,
 "nbformat_minor": 2
}
