{
 "cells": [
  {
   "cell_type": "markdown",
   "metadata": {},
   "source": [
    "# Vector Embeddings"
   ]
  },
  {
   "cell_type": "markdown",
   "metadata": {},
   "source": [
    "Compute vector embeddings of lhsSegments and store them."
   ]
  },
  {
   "cell_type": "code",
   "execution_count": null,
   "metadata": {},
   "outputs": [
    {
     "name": "stdout",
     "output_type": "stream",
     "text": [
      "Number of segments 62\n",
      "Number of documents 62\n"
     ]
    },
    {
     "name": "stdout",
     "output_type": "stream",
     "text": [
      "Query: def mixColumn (col : Array UInt8) : Array UInt8 :=\n",
      "  if _: col.size = 4 then\n",
      "    #[gfMul 0x02 col[0] ^^^ gfMul 0x03 col[1] ^^^ gfMul 0x01 col[2] ^^^ gfMul 0x01 col[3],\n",
      "      gfMul 0x01 col[0] ^^^ gfMul 0x02 col[1] ^^^ gfMul 0x03 col[2] ^^^ gfMul 0x01 col[3],\n",
      "      gfMul 0x01 col[0] ^^^ gfMul 0x01 col[1] ^^^ gfMul 0x02 col[2] ^^^ gfMul 0x03 col[3],\n",
      "      gfMul 0x03 col[0] ^^^ gfMul 0x01 col[1] ^^^ gfMul 0x01 col[2] ^^^ gfMul 0x02 col[3]]\n",
      "  else\n",
      "    panic! \"mixColumn requires an array of exactly 4 elements\"\n",
      "Search results:\n",
      "* [SIM=0.619] ### 5.1.3 MixColumns()\n",
      "* [SIM=0.609] [Figure 4. Illustration of MixColumns()]\n",
      "* [SIM=0.576] Figure 4 illustrates MixColumns().\n",
      "* [SIM=0.562] ### 5.3.3 InvMixColumns()\n",
      "* [SIM=0.559] MixColumns() is a transformation of the state that multiplies each of the four columns of the state by a single fixed matrix, as described in Section 4.3, with its entries taken from the following word:\n",
      "$$\n",
      "[a_{0}, a_{1}, a_{2}, a_{3}]=[\\{02\\},\\{01\\},\\{01\\},\\{03\\}].\n",
      "$$\n",
      "* [SIM=0.487] InvMixColumns() is the inverse of MixColumns(). In particular, InvMixColumns() multiplies each of the four columns of the state by a single fixed matrix, as described in Section 4.3, with its entries taken from the following word:\n",
      "$$\n",
      "[a_{0}, a_{1}, a_{2}, a_{3}]=[\\{0\\mathrm{e}\\},\\{09\\},\\{0\\mathrm{d}\\},\\{0\\mathrm{b}\\}].\n",
      "$$\n",
      "* [SIM=0.449] As a result of this matrix multiplication, the four bytes in a column are replaced by the following:\n",
      "$$\n",
      "\\begin{aligned}\n",
      "s_{0, c}^{\\prime} & =(\\{0\\mathrm{e}\\} \\bullet s_{0, c}) \\oplus (\\{0\\mathrm{b}\\} \\bullet s_{1, c}) \\oplus (\\{0\\mathrm{d}\\} \\bullet s_{2, c}) \\oplus (\\{09\\} \\bullet s_{3, c}) \\\\\n",
      "s_{1, c}^{\\prime} & =(\\{09\\} \\bullet s_{0, c}) \\oplus (\\{0\\mathrm{e}\\} \\bullet s_{1, c}) \\oplus (\\{0\\mathrm{b}\\} \\bullet s_{2, c}) \\oplus (\\{0\\mathrm{d}\\} \\bullet s_{3, c}) \\\\\n",
      "s_{2, c}^{\\prime} & =(\\{0\\mathrm{d}\\} \\bullet s_{0, c}) \\oplus (\\{09\\} \\bullet s_{1, c}) \\oplus (\\{0\\mathrm{e}\\} \\bullet s_{2, c}) \\oplus (\\{0\\mathrm{b}\\} \\bullet s_{3, c}) \\\\\n",
      "s_{3, c}^{\\prime} & =(\\{0\\mathrm{b}\\} \\bullet s_{0, c}) \\oplus (\\{0\\mathrm{d}\\} \\bullet s_{1, c}) \\oplus (\\{09\\} \\bullet s_{2, c}) \\oplus (\\{0\\mathrm{e}\\} \\bullet s_{3, c}).\n",
      "\\end{aligned}\n",
      "$$\n",
      "* [SIM=0.427] The first and last round keys in $dw$ are the same as in $w$; the modification of the other round keys is described in Lines 19-22. The comment in Line 21 refers to the input to InvMixColumns(): the one-dimensional array of words is converted to a two-dimensional array of bytes, as in Fig. 1.\n",
      "* [SIM=0.420] **Table 4. SBox(): substitution values for the byte xy (in hexadecimal format)**\n",
      "|   |   | Y |   |   |   |   |   |   |   |   |   |   |   |   |   |   |\n",
      "|---|---|---|---|---|---|---|---|---|---|---|---|---|---|---|---|---|\n",
      "|   |   | 0 | 1 | 2 | 3 | 4 | 5 | 6 | 7 | 8 | 9 | a | b | c | d | e | f |\n",
      "|   | 0 | 63 | 7c | 77 | 7b | f2 | 6b | 6f | c5 | 30 | 01 | 67 | 2b | fe | d7 | ab | 76 |\n",
      "|   | 1 | ca | 82 | c9 | 7d | fa | 59 | 47 | f0 | ad | d4 | a2 | af | 9c | a4 | 72 | c0 |\n",
      "|   | 2 | b7 | fd | 93 | 26 | 36 | 3f | f7 | cc | 34 | a5 | e5 | f1 | 71 | d8 | 31 | 15 |\n",
      "|   | 3 | 04 | c7 | 23 | c3 | 18 | 96 | 05 | 9a | 07 | 12 | 80 | e2 | eb | 27 | b2 | 75 |\n",
      "|   | 4 | 09 | 83 | 2c | 1a | 1b | 6e | 5a | a0 | 52 | 3b | d6 | b3 | 29 | e3 | 2f | 84 |\n",
      "| X | 5 | 53 | d1 | 00 | ed | 20 | fc | b1 | 5b | 6a | cb | be | 39 | 4a | 4c | 58 | cf |\n",
      "|   | 6 | d0 | ef | aa | fb | 43 | 4d | 33 | 85 | 45 | f9 | 02 | 7f | 50 | 3c | 9f | a8 |\n",
      "|   | 7 | 51 | a3 | 40 | 8f | 92 | 9d | 38 | f5 | bc | b6 | da | 21 | 10 | ff | f3 | d2 |\n",
      "|   | 8 | cd | 0c | 13 | ec | 5f | 97 | 44 | 17 | c4 | a7 | 7e | 3d | 64 | 5d | 19 | 73 |\n",
      "|   | 9 | 60 | 81 | 4f | dc | 22 | 2a | 90 | 88 | 46 | ee | b8 | 14 | de | 5e | 0b | db |\n",
      "|   | a | e0 | 32 | 3a | 0a | 49 | 06 | 24 | 5c | c2 | d3 | ac | 62 | 91 | 95 | e4 | 79 |\n",
      "|   | b | e7 | c8 | 37 | 6d | 8d | d5 | 4e | a9 | 6c | 56 | f4 | ea | 65 | 7a | ae | 08 |\n",
      "|   | c | ba | 78 | 25 | 2e | 1c | a6 | b4 | c6 | e8 | dd | 74 | 1f | 4b | bd | 8b | 8a |\n",
      "|   | d | 70 | 3e | b5 | 66 | 48 | 03 | f6 | 0e | 61 | 35 | 57 | b9 | 86 | c1 | 1d | 9e |\n",
      "|   | e | e1 | f8 | 98 | 11 | 69 | d9 | 8e | 94 | 9b | 1e | 87 | e9 | ce | 55 | 28 | df |\n",
      "|   | f | 8c | a1 | 89 | 0d | bf | e6 | 42 | 68 | 41 | 99 | 2d | 0f | b0 | 54 | bb | 16 |\n",
      "* [SIM=0.418] ### 5.1.1 SubBytes()\n"
     ]
    }
   ],
   "source": [
    "import { readFileSync } from 'node:fs';\n",
    "\n",
    "import { CharacterTextSplitter } from \"langchain/text_splitter\";\n",
    "import { OpenAIEmbeddings } from \"@langchain/openai\";\n",
    "import { MemoryVectorStore } from \"langchain/vectorstores/memory\";\n",
    "\n",
    "import { SERVER_DATA_DIR } from '../server/src/util/fileUtils.ts';\n",
    "\n",
    "const lhsText = readFileSync(`${SERVER_DATA_DIR}/AES-md/selected-text.txt`, 'utf-8');\n",
    "const rhsText = readFileSync(`${SERVER_DATA_DIR}/AES-md/pre-written.txt`, 'utf-8');\n",
    "\n",
    "const lhsSegments = lhsText.split('\\n\\n');\n",
    "const splitter = new CharacterTextSplitter();\n",
    "const splittedDocs = await splitter.createDocuments(lhsSegments);\n",
    "console.log(\"Number of segments\", lhsSegments.length);\n",
    "console.log(\"Number of documents\", splittedDocs.length);\n",
    "\n",
    "const embeddings = new OpenAIEmbeddings({\n",
    "  model: \"text-embedding-3-large\"\n",
    "});\n",
    "const vectorStore = new MemoryVectorStore(embeddings);\n",
    "await vectorStore.addDocuments(splittedDocs);\n",
    "\n",
    "const rhsSegments = rhsText.split('\\n\\n');\n",
    "\n",
    "const numResults = 10;\n",
    "const query = rhsSegments[20];\n",
    "const searchResults = await vectorStore.similaritySearchWithScore(query, numResults);\n",
    "\n",
    "console.log(\"Query:\", query);\n",
    "console.log(\"Search results:\");\n",
    "for (const [doc, score] of searchResults) {\n",
    "  console.log(`* [SIM=${score.toFixed(3)}] ${doc.pageContent}`);\n",
    "}\n"
   ]
  },
  {
   "cell_type": "code",
   "execution_count": null,
   "metadata": {},
   "outputs": [],
   "source": []
  }
 ],
 "metadata": {
  "kernelspec": {
   "display_name": "Deno",
   "language": "typescript",
   "name": "deno"
  },
  "language_info": {
   "codemirror_mode": "typescript",
   "file_extension": ".ts",
   "mimetype": "text/x.typescript",
   "name": "typescript",
   "nbconvert_exporter": "script",
   "pygments_lexer": "typescript",
   "version": "5.7.3"
  }
 },
 "nbformat": 4,
 "nbformat_minor": 2
}
