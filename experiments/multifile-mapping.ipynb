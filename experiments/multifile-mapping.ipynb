{
 "cells": [
  {
   "cell_type": "markdown",
   "metadata": {},
   "source": [
    "# Multifile Block Mappings"
   ]
  },
  {
   "cell_type": "markdown",
   "metadata": {},
   "source": [
    "Generate multifile block mappings between text and code files of the LibSignal protocol, using embeddings and vector databases."
   ]
  },
  {
   "cell_type": "code",
   "execution_count": null,
   "metadata": {},
   "outputs": [],
   "source": [
    "import { writeFileSync } from 'node:fs';\n",
    "import { getNotebookLogger } from \"../server/src/Logger.ts\";\n",
    "import { blockMappingsMultifileGraphInvoke } from \"../server/src/agents/graphs/blockMappingsMultifileGraph.ts\";\n",
    "\n",
    "const logger = getNotebookLogger();"
   ]
  },
  {
   "cell_type": "code",
   "execution_count": null,
   "metadata": {},
   "outputs": [
    {
     "name": "stdout",
     "output_type": "stream",
     "text": [
      "Number of lhs blocks: 316\n",
      "Summarizing RHS blocks...\n"
     ]
    },
    {
     "name": "stdout",
     "output_type": "stream",
     "text": [
      "Storing LHS blocks in vector database...\n",
      "Finding mapping for selected text in vector database...\n"
     ]
    }
   ],
   "source": [
    "// Annotations from code\n",
    "const selectionSide = \"rhs\";\n",
    "const lhsFiles = [\n",
    "    `../server/data/libsignal/text/rachet.md`, \n",
    "    `../server/data/libsignal/text/x3dh.md`\n",
    "];\n",
    "const rhsFiles = [\n",
    "    `../server/data/libsignal/code/rust-protocol-src-crypto.rs`,\n",
    "    `../server/data/libsignal/code/rust-protocol-src-lib.rs`,\n",
    "    `../server/data/libsignal/code/rust-protocol-src-protocol.rs`,\n",
    "    `../server/data/libsignal/code/rust-protocol-src-ratchet.rs`\n",
    "];\n",
    "const outputFile = '../server/data/libsignal/annotations-from-code.json';\n",
    "\n",
    "const output = await blockMappingsMultifileGraphInvoke(lhsFiles, rhsFiles, [], selectionSide, logger);\n",
    "writeFileSync(outputFile, JSON.stringify(output, null, 2), 'utf-8');"
   ]
  },
  {
   "cell_type": "code",
   "execution_count": 3,
   "metadata": {},
   "outputs": [
    {
     "name": "stdout",
     "output_type": "stream",
     "text": [
      "Number of rhs blocks: 182\n",
      "Summarizing LHS blocks...\n",
      "Storing RHS blocks in vector database...\n",
      "Finding mapping for selected text in vector database...\n"
     ]
    }
   ],
   "source": [
    "// Annotations from text\n",
    "const selectionSide = \"lhs\";\n",
    "const lhsFiles = [\n",
    "    `../server/data/libsignal/text/rachet.md`, \n",
    "    `../server/data/libsignal/text/x3dh.md`\n",
    "];\n",
    "const rhsFiles = [\n",
    "    `../server/data/libsignal/code/rust-protocol-src-crypto.rs`,\n",
    "    `../server/data/libsignal/code/rust-protocol-src-lib.rs`,\n",
    "    `../server/data/libsignal/code/rust-protocol-src-protocol.rs`,\n",
    "    `../server/data/libsignal/code/rust-protocol-src-ratchet.rs`\n",
    "];\n",
    "const outputFile = '../server/data/libsignal/annotations-from-text.json';\n",
    "\n",
    "const output = await blockMappingsMultifileGraphInvoke(lhsFiles, rhsFiles, [], selectionSide, logger);\n",
    "writeFileSync(outputFile, JSON.stringify(output, null, 2), 'utf-8');"
   ]
  },
  {
   "cell_type": "code",
   "execution_count": null,
   "metadata": {},
   "outputs": [],
   "source": []
  }
 ],
 "metadata": {
  "kernelspec": {
   "display_name": "Deno",
   "language": "typescript",
   "name": "deno"
  },
  "language_info": {
   "codemirror_mode": "typescript",
   "file_extension": ".ts",
   "mimetype": "text/x.typescript",
   "name": "typescript",
   "nbconvert_exporter": "script",
   "pygments_lexer": "typescript",
   "version": "5.8.3"
  }
 },
 "nbformat": 4,
 "nbformat_minor": 2
}
